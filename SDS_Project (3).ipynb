{
 "cells": [
  {
   "cell_type": "markdown",
   "metadata": {
    "id": "ssKZ20tXv4Vd"
   },
   "source": [
    "<h1><center>SDS Project"
   ]
  },
  {
   "cell_type": "code",
   "execution_count": 2,
   "metadata": {
    "id": "_b0L_BBtv4Vg"
   },
   "outputs": [],
   "source": [
    "import pandas as pd\n",
    "import numpy as np\n",
    "import matplotlib.pyplot as plt\n",
    "import seaborn as sns\n",
    "from matplotlib import dates\n",
    "%matplotlib inline"
   ]
  },
  {
   "cell_type": "markdown",
   "metadata": {
    "id": "pAjA1-PHv4Vt"
   },
   "source": [
    "<h3>Data Loading"
   ]
  },
  {
   "cell_type": "code",
   "execution_count": 3,
   "metadata": {
    "colab": {
     "base_uri": "https://localhost:8080/",
     "height": 299
    },
    "id": "69djTmdxv4Vu",
    "outputId": "2d6d1a6f-c6eb-4135-a87a-0abd019b07c8"
   },
   "outputs": [
    {
     "data": {
      "text/html": [
       "<div>\n",
       "<style scoped>\n",
       "    .dataframe tbody tr th:only-of-type {\n",
       "        vertical-align: middle;\n",
       "    }\n",
       "\n",
       "    .dataframe tbody tr th {\n",
       "        vertical-align: top;\n",
       "    }\n",
       "\n",
       "    .dataframe thead th {\n",
       "        text-align: right;\n",
       "    }\n",
       "</style>\n",
       "<table border=\"1\" class=\"dataframe\">\n",
       "  <thead>\n",
       "    <tr style=\"text-align: right;\">\n",
       "      <th></th>\n",
       "      <th>Date</th>\n",
       "      <th>Location</th>\n",
       "      <th>MinTemp</th>\n",
       "      <th>MaxTemp</th>\n",
       "      <th>Rainfall</th>\n",
       "      <th>Evaporation</th>\n",
       "      <th>Sunshine</th>\n",
       "      <th>WindGustDir</th>\n",
       "      <th>WindGustSpeed</th>\n",
       "      <th>WindDir9am</th>\n",
       "      <th>WindDir3pm</th>\n",
       "      <th>WindSpeed9am</th>\n",
       "      <th>WindSpeed3pm</th>\n",
       "      <th>Humidity9am</th>\n",
       "      <th>Humidity3pm</th>\n",
       "      <th>Pressure9am</th>\n",
       "      <th>Pressure3pm</th>\n",
       "      <th>Cloud9am</th>\n",
       "      <th>Cloud3pm</th>\n",
       "      <th>Temp9am</th>\n",
       "      <th>Temp3pm</th>\n",
       "      <th>RainToday</th>\n",
       "      <th>RISK_MM</th>\n",
       "      <th>RainTomorrow</th>\n",
       "    </tr>\n",
       "  </thead>\n",
       "  <tbody>\n",
       "    <tr>\n",
       "      <th>0</th>\n",
       "      <td>2008-12-01</td>\n",
       "      <td>Albury</td>\n",
       "      <td>13.4</td>\n",
       "      <td>22.9</td>\n",
       "      <td>0.6</td>\n",
       "      <td>NaN</td>\n",
       "      <td>NaN</td>\n",
       "      <td>W</td>\n",
       "      <td>44.0</td>\n",
       "      <td>W</td>\n",
       "      <td>WNW</td>\n",
       "      <td>20.0</td>\n",
       "      <td>24.0</td>\n",
       "      <td>71.0</td>\n",
       "      <td>22.0</td>\n",
       "      <td>1007.7</td>\n",
       "      <td>1007.1</td>\n",
       "      <td>8.0</td>\n",
       "      <td>NaN</td>\n",
       "      <td>16.9</td>\n",
       "      <td>21.8</td>\n",
       "      <td>No</td>\n",
       "      <td>0.0</td>\n",
       "      <td>No</td>\n",
       "    </tr>\n",
       "    <tr>\n",
       "      <th>1</th>\n",
       "      <td>2008-12-02</td>\n",
       "      <td>Albury</td>\n",
       "      <td>7.4</td>\n",
       "      <td>25.1</td>\n",
       "      <td>0.0</td>\n",
       "      <td>NaN</td>\n",
       "      <td>NaN</td>\n",
       "      <td>WNW</td>\n",
       "      <td>44.0</td>\n",
       "      <td>NNW</td>\n",
       "      <td>WSW</td>\n",
       "      <td>4.0</td>\n",
       "      <td>22.0</td>\n",
       "      <td>44.0</td>\n",
       "      <td>25.0</td>\n",
       "      <td>1010.6</td>\n",
       "      <td>1007.8</td>\n",
       "      <td>NaN</td>\n",
       "      <td>NaN</td>\n",
       "      <td>17.2</td>\n",
       "      <td>24.3</td>\n",
       "      <td>No</td>\n",
       "      <td>0.0</td>\n",
       "      <td>No</td>\n",
       "    </tr>\n",
       "    <tr>\n",
       "      <th>2</th>\n",
       "      <td>2008-12-03</td>\n",
       "      <td>Albury</td>\n",
       "      <td>12.9</td>\n",
       "      <td>25.7</td>\n",
       "      <td>0.0</td>\n",
       "      <td>NaN</td>\n",
       "      <td>NaN</td>\n",
       "      <td>WSW</td>\n",
       "      <td>46.0</td>\n",
       "      <td>W</td>\n",
       "      <td>WSW</td>\n",
       "      <td>19.0</td>\n",
       "      <td>26.0</td>\n",
       "      <td>38.0</td>\n",
       "      <td>30.0</td>\n",
       "      <td>1007.6</td>\n",
       "      <td>1008.7</td>\n",
       "      <td>NaN</td>\n",
       "      <td>2.0</td>\n",
       "      <td>21.0</td>\n",
       "      <td>23.2</td>\n",
       "      <td>No</td>\n",
       "      <td>0.0</td>\n",
       "      <td>No</td>\n",
       "    </tr>\n",
       "    <tr>\n",
       "      <th>3</th>\n",
       "      <td>2008-12-04</td>\n",
       "      <td>Albury</td>\n",
       "      <td>9.2</td>\n",
       "      <td>28.0</td>\n",
       "      <td>0.0</td>\n",
       "      <td>NaN</td>\n",
       "      <td>NaN</td>\n",
       "      <td>NE</td>\n",
       "      <td>24.0</td>\n",
       "      <td>SE</td>\n",
       "      <td>E</td>\n",
       "      <td>11.0</td>\n",
       "      <td>9.0</td>\n",
       "      <td>45.0</td>\n",
       "      <td>16.0</td>\n",
       "      <td>1017.6</td>\n",
       "      <td>1012.8</td>\n",
       "      <td>NaN</td>\n",
       "      <td>NaN</td>\n",
       "      <td>18.1</td>\n",
       "      <td>26.5</td>\n",
       "      <td>No</td>\n",
       "      <td>1.0</td>\n",
       "      <td>No</td>\n",
       "    </tr>\n",
       "    <tr>\n",
       "      <th>4</th>\n",
       "      <td>2008-12-05</td>\n",
       "      <td>Albury</td>\n",
       "      <td>17.5</td>\n",
       "      <td>32.3</td>\n",
       "      <td>1.0</td>\n",
       "      <td>NaN</td>\n",
       "      <td>NaN</td>\n",
       "      <td>W</td>\n",
       "      <td>41.0</td>\n",
       "      <td>ENE</td>\n",
       "      <td>NW</td>\n",
       "      <td>7.0</td>\n",
       "      <td>20.0</td>\n",
       "      <td>82.0</td>\n",
       "      <td>33.0</td>\n",
       "      <td>1010.8</td>\n",
       "      <td>1006.0</td>\n",
       "      <td>7.0</td>\n",
       "      <td>8.0</td>\n",
       "      <td>17.8</td>\n",
       "      <td>29.7</td>\n",
       "      <td>No</td>\n",
       "      <td>0.2</td>\n",
       "      <td>No</td>\n",
       "    </tr>\n",
       "  </tbody>\n",
       "</table>\n",
       "</div>"
      ],
      "text/plain": [
       "         Date Location  MinTemp  ...  RainToday  RISK_MM  RainTomorrow\n",
       "0  2008-12-01   Albury     13.4  ...         No      0.0            No\n",
       "1  2008-12-02   Albury      7.4  ...         No      0.0            No\n",
       "2  2008-12-03   Albury     12.9  ...         No      0.0            No\n",
       "3  2008-12-04   Albury      9.2  ...         No      1.0            No\n",
       "4  2008-12-05   Albury     17.5  ...         No      0.2            No\n",
       "\n",
       "[5 rows x 24 columns]"
      ]
     },
     "execution_count": 3,
     "metadata": {
      "tags": []
     },
     "output_type": "execute_result"
    }
   ],
   "source": [
    "data = pd.read_csv('data.csv')\n",
    "data.head()"
   ]
  },
  {
   "cell_type": "markdown",
   "metadata": {
    "id": "6xPhJrYvv4WF"
   },
   "source": [
    "<h3>Data Cleaning"
   ]
  },
  {
   "cell_type": "code",
   "execution_count": 4,
   "metadata": {
    "colab": {
     "base_uri": "https://localhost:8080/"
    },
    "id": "NqFkaE9Lv4WH",
    "outputId": "951336d2-b0ac-4d59-d529-03a83397c8ad"
   },
   "outputs": [
    {
     "data": {
      "text/plain": [
       "Date                 0\n",
       "Location             0\n",
       "MinTemp            637\n",
       "MaxTemp            322\n",
       "Rainfall          1406\n",
       "Evaporation      60843\n",
       "Sunshine         67816\n",
       "WindGustDir       9330\n",
       "WindGustSpeed     9270\n",
       "WindDir9am       10013\n",
       "WindDir3pm        3778\n",
       "WindSpeed9am      1348\n",
       "WindSpeed3pm      2630\n",
       "Humidity9am       1774\n",
       "Humidity3pm       3610\n",
       "Pressure9am      14014\n",
       "Pressure3pm      13981\n",
       "Cloud9am         53657\n",
       "Cloud3pm         57094\n",
       "Temp9am            904\n",
       "Temp3pm           2726\n",
       "RainToday         1406\n",
       "RISK_MM              0\n",
       "RainTomorrow         0\n",
       "dtype: int64"
      ]
     },
     "execution_count": 4,
     "metadata": {
      "tags": []
     },
     "output_type": "execute_result"
    }
   ],
   "source": [
    "data.isnull().sum()"
   ]
  },
  {
   "cell_type": "code",
   "execution_count": 5,
   "metadata": {
    "colab": {
     "base_uri": "https://localhost:8080/",
     "height": 682
    },
    "id": "mbDLmGn5v4WQ",
    "outputId": "51078e77-0531-4a1b-b5e9-7f676bcfbbd4"
   },
   "outputs": [
    {
     "data": {
      "text/plain": [
       "<matplotlib.axes._subplots.AxesSubplot at 0x7f682c5190f0>"
      ]
     },
     "execution_count": 5,
     "metadata": {
      "tags": []
     },
     "output_type": "execute_result"
    },
    {
     "data": {
      "image/png": "[encoded data removed]",
      "text/plain": [
       "<Figure size 720x720 with 2 Axes>"
      ]
     },
     "metadata": {
      "needs_background": "light",
      "tags": []
     },
     "output_type": "display_data"
    }
   ],
   "source": [
    "fig = plt.figure(figsize=(10,10))\n",
    "sns.heatmap(data.isnull(),yticklabels=False,cmap='viridis')"
   ]
  },
  {
   "cell_type": "markdown",
   "metadata": {
    "id": "w2EBVrI-v4WY"
   },
   "source": [
    "Dropping columns with more than 40% of null values."
   ]
  },
  {
   "cell_type": "code",
   "execution_count": 6,
   "metadata": {
    "id": "9LKO5o-rv4Wa"
   },
   "outputs": [],
   "source": [
    "#function to return the columns with more than a certain percentage null values \n",
    "def columns_to_be_dropped(data,percentage):\n",
    "    columns_null = []\n",
    "    for column in data.columns:\n",
    "        if (data[column].isnull().sum() / len(data[column])) * 100 >= percentage:\n",
    "            columns_null.append(column)\n",
    "    return columns_null"
   ]
  },
  {
   "cell_type": "code",
   "execution_count": 7,
   "metadata": {
    "colab": {
     "base_uri": "https://localhost:8080/"
    },
    "id": "yWTaiRy9v4Wh",
    "outputId": "191f5fb5-c4fc-4722-c21f-3960001991e7"
   },
   "outputs": [
    {
     "name": "stdout",
     "output_type": "stream",
     "text": [
      "['Evaporation', 'Sunshine', 'Cloud3pm']\n"
     ]
    }
   ],
   "source": [
    "columns = columns_to_be_dropped(data,40)\n",
    "print(columns)\n",
    "data.drop(columns,axis = 1,inplace = True)"
   ]
  },
  {
   "cell_type": "markdown",
   "metadata": {
    "id": "d74Y3ZKHv4Wu"
   },
   "source": [
    "Inputing the numerical values to mean and the categorical columns to forward fill."
   ]
  },
  {
   "cell_type": "code",
   "execution_count": 8,
   "metadata": {
    "id": "tO5Kn8hLv4W3"
   },
   "outputs": [],
   "source": [
    "def stats(column,method=None):\n",
    "    if data[column].dtype == 'object' and not method:\n",
    "        data[column].fillna(method='ffill',inplace=True) # forward fill for categorical columns\n",
    "        return\n",
    "    if method == 'mode':\n",
    "        mode = data[column].value_counts().index[0]\n",
    "        data[column].fillna(mode,inplace=True)\n",
    "    elif method == 'median':\n",
    "        data[column].fillna(data[column].median(),inplace=True) \n",
    "    else:\n",
    "        data[column].fillna(data[column].mean(),inplace=True) # default to mean"
   ]
  },
  {
   "cell_type": "code",
   "execution_count": 9,
   "metadata": {
    "colab": {
     "base_uri": "https://localhost:8080/"
    },
    "id": "MkDzOe0av4W-",
    "outputId": "dd0087eb-a39b-43e1-95d3-a38b0d42b04e"
   },
   "outputs": [
    {
     "name": "stdout",
     "output_type": "stream",
     "text": [
      "Removed null values from column MinTemp\n",
      "Removed null values from column MaxTemp\n",
      "Removed null values from column Rainfall\n",
      "Removed null values from column WindGustDir\n",
      "Removed null values from column WindGustSpeed\n",
      "Removed null values from column WindDir9am\n",
      "Removed null values from column WindDir3pm\n",
      "Removed null values from column WindSpeed9am\n",
      "Removed null values from column WindSpeed3pm\n",
      "Removed null values from column Humidity9am\n",
      "Removed null values from column Humidity3pm\n",
      "Removed null values from column Pressure9am\n",
      "Removed null values from column Pressure3pm\n",
      "Removed null values from column Cloud9am\n",
      "Removed null values from column Temp9am\n",
      "Removed null values from column Temp3pm\n",
      "Removed null values from column RainToday\n"
     ]
    }
   ],
   "source": [
    "for i in data.columns:\n",
    "    if data[i].isnull().values.sum(): # imputing columns with null values \n",
    "        stats(i)\n",
    "        print('Removed null values from column',i)"
   ]
  },
  {
   "cell_type": "code",
   "execution_count": 10,
   "metadata": {
    "colab": {
     "base_uri": "https://localhost:8080/"
    },
    "id": "zXV8F7Lwv4XG",
    "outputId": "1d02e9ea-1ab0-49b0-f60c-10869bfc7b58"
   },
   "outputs": [
    {
     "data": {
      "text/plain": [
       "Date             0\n",
       "Location         0\n",
       "MinTemp          0\n",
       "MaxTemp          0\n",
       "Rainfall         0\n",
       "WindGustDir      0\n",
       "WindGustSpeed    0\n",
       "WindDir9am       0\n",
       "WindDir3pm       0\n",
       "WindSpeed9am     0\n",
       "WindSpeed3pm     0\n",
       "Humidity9am      0\n",
       "Humidity3pm      0\n",
       "Pressure9am      0\n",
       "Pressure3pm      0\n",
       "Cloud9am         0\n",
       "Temp9am          0\n",
       "Temp3pm          0\n",
       "RainToday        0\n",
       "RISK_MM          0\n",
       "RainTomorrow     0\n",
       "dtype: int64"
      ]
     },
     "execution_count": 10,
     "metadata": {
      "tags": []
     },
     "output_type": "execute_result"
    }
   ],
   "source": [
    "data.isnull().sum()"
   ]
  },
  {
   "cell_type": "markdown",
   "metadata": {
    "id": "INDCuprbv4XN"
   },
   "source": [
    "<h3>Exploratory Data Analysis"
   ]
  },
  {
   "cell_type": "code",
   "execution_count": 11,
   "metadata": {
    "colab": {
     "base_uri": "https://localhost:8080/"
    },
    "id": "qdirJFxev4XP",
    "outputId": "657d3d15-cc6c-4e54-f509-4fe3857c53b5"
   },
   "outputs": [
    {
     "name": "stdout",
     "output_type": "stream",
     "text": [
      "<class 'pandas.core.frame.DataFrame'>\n",
      "RangeIndex: 142193 entries, 0 to 142192\n",
      "Data columns (total 21 columns):\n",
      " #   Column         Non-Null Count   Dtype  \n",
      "---  ------         --------------   -----  \n",
      " 0   Date           142193 non-null  object \n",
      " 1   Location       142193 non-null  object \n",
      " 2   MinTemp        142193 non-null  float64\n",
      " 3   MaxTemp        142193 non-null  float64\n",
      " 4   Rainfall       142193 non-null  float64\n",
      " 5   WindGustDir    142193 non-null  object \n",
      " 6   WindGustSpeed  142193 non-null  float64\n",
      " 7   WindDir9am     142193 non-null  object \n",
      " 8   WindDir3pm     142193 non-null  object \n",
      " 9   WindSpeed9am   142193 non-null  float64\n",
      " 10  WindSpeed3pm   142193 non-null  float64\n",
      " 11  Humidity9am    142193 non-null  float64\n",
      " 12  Humidity3pm    142193 non-null  float64\n",
      " 13  Pressure9am    142193 non-null  float64\n",
      " 14  Pressure3pm    142193 non-null  float64\n",
      " 15  Cloud9am       142193 non-null  float64\n",
      " 16  Temp9am        142193 non-null  float64\n",
      " 17  Temp3pm        142193 non-null  float64\n",
      " 18  RainToday      142193 non-null  object \n",
      " 19  RISK_MM        142193 non-null  float64\n",
      " 20  RainTomorrow   142193 non-null  object \n",
      "dtypes: float64(14), object(7)\n",
      "memory usage: 22.8+ MB\n"
     ]
    }
   ],
   "source": [
    "data.info()"
   ]
  },
  {
   "cell_type": "code",
   "execution_count": 12,
   "metadata": {
    "colab": {
     "base_uri": "https://localhost:8080/",
     "height": 304
    },
    "id": "EIJ5MIm4v4Xk",
    "outputId": "4e8e9d23-5830-434a-fea7-6e4a60ea550e"
   },
   "outputs": [
    {
     "data": {
      "text/html": [
       "<div>\n",
       "<style scoped>\n",
       "    .dataframe tbody tr th:only-of-type {\n",
       "        vertical-align: middle;\n",
       "    }\n",
       "\n",
       "    .dataframe tbody tr th {\n",
       "        vertical-align: top;\n",
       "    }\n",
       "\n",
       "    .dataframe thead th {\n",
       "        text-align: right;\n",
       "    }\n",
       "</style>\n",
       "<table border=\"1\" class=\"dataframe\">\n",
       "  <thead>\n",
       "    <tr style=\"text-align: right;\">\n",
       "      <th></th>\n",
       "      <th>MinTemp</th>\n",
       "      <th>MaxTemp</th>\n",
       "      <th>Rainfall</th>\n",
       "      <th>WindGustSpeed</th>\n",
       "      <th>WindSpeed9am</th>\n",
       "      <th>WindSpeed3pm</th>\n",
       "      <th>Humidity9am</th>\n",
       "      <th>Humidity3pm</th>\n",
       "      <th>Pressure9am</th>\n",
       "      <th>Pressure3pm</th>\n",
       "      <th>Cloud9am</th>\n",
       "      <th>Temp9am</th>\n",
       "      <th>Temp3pm</th>\n",
       "      <th>RISK_MM</th>\n",
       "    </tr>\n",
       "  </thead>\n",
       "  <tbody>\n",
       "    <tr>\n",
       "      <th>count</th>\n",
       "      <td>142193.000000</td>\n",
       "      <td>142193.000000</td>\n",
       "      <td>142193.000000</td>\n",
       "      <td>142193.000000</td>\n",
       "      <td>142193.000000</td>\n",
       "      <td>142193.000000</td>\n",
       "      <td>142193.000000</td>\n",
       "      <td>142193.000000</td>\n",
       "      <td>142193.000000</td>\n",
       "      <td>142193.000000</td>\n",
       "      <td>142193.000000</td>\n",
       "      <td>142193.000000</td>\n",
       "      <td>142193.000000</td>\n",
       "      <td>142193.000000</td>\n",
       "    </tr>\n",
       "    <tr>\n",
       "      <th>mean</th>\n",
       "      <td>12.186400</td>\n",
       "      <td>23.226784</td>\n",
       "      <td>2.349974</td>\n",
       "      <td>39.984292</td>\n",
       "      <td>14.001988</td>\n",
       "      <td>18.637576</td>\n",
       "      <td>68.843810</td>\n",
       "      <td>51.482606</td>\n",
       "      <td>1017.653758</td>\n",
       "      <td>1015.258204</td>\n",
       "      <td>4.437189</td>\n",
       "      <td>16.987509</td>\n",
       "      <td>21.687235</td>\n",
       "      <td>2.360682</td>\n",
       "    </tr>\n",
       "    <tr>\n",
       "      <th>std</th>\n",
       "      <td>6.388924</td>\n",
       "      <td>7.109554</td>\n",
       "      <td>8.423217</td>\n",
       "      <td>13.138385</td>\n",
       "      <td>8.851082</td>\n",
       "      <td>8.721551</td>\n",
       "      <td>18.932077</td>\n",
       "      <td>20.532065</td>\n",
       "      <td>6.746248</td>\n",
       "      <td>6.681788</td>\n",
       "      <td>2.278080</td>\n",
       "      <td>6.472166</td>\n",
       "      <td>6.870771</td>\n",
       "      <td>8.477969</td>\n",
       "    </tr>\n",
       "    <tr>\n",
       "      <th>min</th>\n",
       "      <td>-8.500000</td>\n",
       "      <td>-4.800000</td>\n",
       "      <td>0.000000</td>\n",
       "      <td>6.000000</td>\n",
       "      <td>0.000000</td>\n",
       "      <td>0.000000</td>\n",
       "      <td>0.000000</td>\n",
       "      <td>0.000000</td>\n",
       "      <td>980.500000</td>\n",
       "      <td>977.100000</td>\n",
       "      <td>0.000000</td>\n",
       "      <td>-7.200000</td>\n",
       "      <td>-5.400000</td>\n",
       "      <td>0.000000</td>\n",
       "    </tr>\n",
       "    <tr>\n",
       "      <th>25%</th>\n",
       "      <td>7.600000</td>\n",
       "      <td>17.900000</td>\n",
       "      <td>0.000000</td>\n",
       "      <td>31.000000</td>\n",
       "      <td>7.000000</td>\n",
       "      <td>13.000000</td>\n",
       "      <td>57.000000</td>\n",
       "      <td>37.000000</td>\n",
       "      <td>1013.500000</td>\n",
       "      <td>1011.000000</td>\n",
       "      <td>3.000000</td>\n",
       "      <td>12.300000</td>\n",
       "      <td>16.700000</td>\n",
       "      <td>0.000000</td>\n",
       "    </tr>\n",
       "    <tr>\n",
       "      <th>50%</th>\n",
       "      <td>12.000000</td>\n",
       "      <td>22.700000</td>\n",
       "      <td>0.000000</td>\n",
       "      <td>39.000000</td>\n",
       "      <td>13.000000</td>\n",
       "      <td>18.637576</td>\n",
       "      <td>70.000000</td>\n",
       "      <td>51.482606</td>\n",
       "      <td>1017.653758</td>\n",
       "      <td>1015.258204</td>\n",
       "      <td>4.437189</td>\n",
       "      <td>16.800000</td>\n",
       "      <td>21.300000</td>\n",
       "      <td>0.000000</td>\n",
       "    </tr>\n",
       "    <tr>\n",
       "      <th>75%</th>\n",
       "      <td>16.800000</td>\n",
       "      <td>28.200000</td>\n",
       "      <td>0.800000</td>\n",
       "      <td>46.000000</td>\n",
       "      <td>19.000000</td>\n",
       "      <td>24.000000</td>\n",
       "      <td>83.000000</td>\n",
       "      <td>65.000000</td>\n",
       "      <td>1021.800000</td>\n",
       "      <td>1019.400000</td>\n",
       "      <td>6.000000</td>\n",
       "      <td>21.500000</td>\n",
       "      <td>26.300000</td>\n",
       "      <td>0.800000</td>\n",
       "    </tr>\n",
       "    <tr>\n",
       "      <th>max</th>\n",
       "      <td>33.900000</td>\n",
       "      <td>48.100000</td>\n",
       "      <td>371.000000</td>\n",
       "      <td>135.000000</td>\n",
       "      <td>130.000000</td>\n",
       "      <td>87.000000</td>\n",
       "      <td>100.000000</td>\n",
       "      <td>100.000000</td>\n",
       "      <td>1041.000000</td>\n",
       "      <td>1039.600000</td>\n",
       "      <td>9.000000</td>\n",
       "      <td>40.200000</td>\n",
       "      <td>46.700000</td>\n",
       "      <td>371.000000</td>\n",
       "    </tr>\n",
       "  </tbody>\n",
       "</table>\n",
       "</div>"
      ],
      "text/plain": [
       "             MinTemp        MaxTemp  ...        Temp3pm        RISK_MM\n",
       "count  142193.000000  142193.000000  ...  142193.000000  142193.000000\n",
       "mean       12.186400      23.226784  ...      21.687235       2.360682\n",
       "std         6.388924       7.109554  ...       6.870771       8.477969\n",
       "min        -8.500000      -4.800000  ...      -5.400000       0.000000\n",
       "25%         7.600000      17.900000  ...      16.700000       0.000000\n",
       "50%        12.000000      22.700000  ...      21.300000       0.000000\n",
       "75%        16.800000      28.200000  ...      26.300000       0.800000\n",
       "max        33.900000      48.100000  ...      46.700000     371.000000\n",
       "\n",
       "[8 rows x 14 columns]"
      ]
     },
     "execution_count": 12,
     "metadata": {
      "tags": []
     },
     "output_type": "execute_result"
    }
   ],
   "source": [
    "data.describe()"
   ]
  },
  {
   "cell_type": "code",
   "execution_count": 13,
   "metadata": {
    "id": "mfHss4k5v4Xt"
   },
   "outputs": [],
   "source": [
    "#Lets first separate the numerical and categorical columns\n",
    "def num_cat(data):\n",
    "    cat = []\n",
    "    num = []\n",
    "    for i in data.columns:\n",
    "        if data[i].dtype == 'object':\n",
    "            cat.append(i)\n",
    "        else:\n",
    "            num.append(i)\n",
    "    return num,cat\n",
    "numerical_columns, categorical_columns = num_cat(data)"
   ]
  },
  {
   "cell_type": "code",
   "execution_count": 14,
   "metadata": {
    "colab": {
     "base_uri": "https://localhost:8080/"
    },
    "id": "7NnIitVzv4X4",
    "outputId": "19874bc0-97d7-4f1f-fa14-35cdfe40ba68"
   },
   "outputs": [
    {
     "data": {
      "text/plain": [
       "['MinTemp',\n",
       " 'MaxTemp',\n",
       " 'Rainfall',\n",
       " 'WindGustSpeed',\n",
       " 'WindSpeed9am',\n",
       " 'WindSpeed3pm',\n",
       " 'Humidity9am',\n",
       " 'Humidity3pm',\n",
       " 'Pressure9am',\n",
       " 'Pressure3pm',\n",
       " 'Cloud9am',\n",
       " 'Temp9am',\n",
       " 'Temp3pm',\n",
       " 'RISK_MM']"
      ]
     },
     "execution_count": 14,
     "metadata": {
      "tags": []
     },
     "output_type": "execute_result"
    }
   ],
   "source": [
    "numerical_columns"
   ]
  },
  {
   "cell_type": "code",
   "execution_count": 15,
   "metadata": {
    "colab": {
     "base_uri": "https://localhost:8080/"
    },
    "id": "V8vIN7XCv4YC",
    "outputId": "d5d0daf3-7d27-41c5-b31d-0787eb8a8bf7"
   },
   "outputs": [
    {
     "data": {
      "text/plain": [
       "['Date',\n",
       " 'Location',\n",
       " 'WindGustDir',\n",
       " 'WindDir9am',\n",
       " 'WindDir3pm',\n",
       " 'RainToday',\n",
       " 'RainTomorrow']"
      ]
     },
     "execution_count": 15,
     "metadata": {
      "tags": []
     },
     "output_type": "execute_result"
    }
   ],
   "source": [
    "categorical_columns"
   ]
  },
  {
   "cell_type": "code",
   "execution_count": 16,
   "metadata": {
    "colab": {
     "base_uri": "https://localhost:8080/",
     "height": 350
    },
    "id": "SRO7oyQFv4Ya",
    "outputId": "0ed76ba9-41ba-499e-9b5f-43ed130fef2e"
   },
   "outputs": [
    {
     "name": "stderr",
     "output_type": "stream",
     "text": [
      "/usr/local/lib/python3.6/dist-packages/seaborn/_decorators.py:43: FutureWarning: Pass the following variable as a keyword arg: x. From version 0.12, the only valid positional argument will be `data`, and passing other arguments without an explicit keyword will result in an error or misinterpretation.\n",
      "  FutureWarning\n"
     ]
    },
    {
     "data": {
      "text/plain": [
       "<matplotlib.axes._subplots.AxesSubplot at 0x7f682c4f6208>"
      ]
     },
     "execution_count": 16,
     "metadata": {
      "tags": []
     },
     "output_type": "execute_result"
    },
    {
     "data": {
      "image/png": "[encoded data removed]",
      "text/plain": [
       "<Figure size 432x288 with 1 Axes>"
      ]
     },
     "metadata": {
      "needs_background": "light",
      "tags": []
     },
     "output_type": "display_data"
    }
   ],
   "source": [
    "sns.countplot('RainTomorrow',data=data,palette='Paired')"
   ]
  },
  {
   "cell_type": "code",
   "execution_count": 17,
   "metadata": {
    "colab": {
     "base_uri": "https://localhost:8080/",
     "height": 594
    },
    "id": "MjtQ4icyv4Yg",
    "outputId": "749b806a-6b97-4c22-eeb1-b4482747bfd8"
   },
   "outputs": [
    {
     "data": {
      "text/plain": [
       "<matplotlib.axes._subplots.AxesSubplot at 0x7f6828d80e10>"
      ]
     },
     "execution_count": 17,
     "metadata": {
      "tags": []
     },
     "output_type": "execute_result"
    },
    {
     "data": {
      "image/png": "[encoded data removed]",
      "text/plain": [
       "<Figure size 1440x720 with 3 Axes>"
      ]
     },
     "metadata": {
      "needs_background": "light",
      "tags": []
     },
     "output_type": "display_data"
    }
   ],
   "source": [
    "#using subplots to plot multiple plots at once\n",
    "fig = plt.figure(figsize=(20,10))\n",
    "fig.add_subplot(2,2,1)\n",
    "sns.boxplot(x='RainTomorrow',y='MinTemp',data=data,palette='Set1')\n",
    "fig.add_subplot(2,2,2)\n",
    "sns.boxplot(x='RainTomorrow',y='MaxTemp',data=data,palette='Set1')\n",
    "fig.add_subplot(2,2,3)\n",
    "sns.scatterplot(x='RainTomorrow',y='Rainfall',data=data,palette='Set1')"
   ]
  },
  {
   "cell_type": "markdown",
   "metadata": {
    "id": "oWc0hNpPu2Gz"
   },
   "source": [
    "The above plots show that RainTomorrow depends slightly on the MinTemp and MaxTemp values of the current day. Also the if the rainfall on the current day was heavy the data shows a greater probability of Rain the next day."
   ]
  },
  {
   "cell_type": "code",
   "execution_count": 18,
   "metadata": {
    "colab": {
     "base_uri": "https://localhost:8080/",
     "height": 594
    },
    "id": "szhnmj0xv4Yn",
    "outputId": "59fc4384-7cd6-42ed-e85e-04ef67fb0e06"
   },
   "outputs": [
    {
     "data": {
      "text/plain": [
       "<matplotlib.axes._subplots.AxesSubplot at 0x7f68279e8358>"
      ]
     },
     "execution_count": 18,
     "metadata": {
      "tags": []
     },
     "output_type": "execute_result"
    },
    {
     "data": {
      "image/png": "[encoded data removed]",
      "text/plain": [
       "<Figure size 1440x720 with 3 Axes>"
      ]
     },
     "metadata": {
      "needs_background": "light",
      "tags": []
     },
     "output_type": "display_data"
    }
   ],
   "source": [
    "fig = plt.figure(figsize=(20,10))\n",
    "fig.add_subplot(2,2,1)\n",
    "sns.violinplot(x='RainTomorrow',y='WindGustSpeed',data=data,palette='Set2')\n",
    "fig.add_subplot(2,2,2)\n",
    "sns.violinplot(x='RainTomorrow',y='WindSpeed9am',data=data,palette='Set2')\n",
    "fig.add_subplot(2,2,3)\n",
    "sns.violinplot(x='RainTomorrow',y='WindSpeed3pm',data=data,palette='Set2')"
   ]
  },
  {
   "cell_type": "markdown",
   "metadata": {
    "id": "mlh4mIgcwsPe"
   },
   "source": [
    "The above plots show that RainTomorrow has slight variation with respect to the WindGustSpeed and WindSpeed3pm fields. A higher wind gust speed has a higher chance of affecting the rain the next day similar to the wind speed at 3pm. The wind speed of 9 am shows similar readings when there was or wasnt any rain, the next day."
   ]
  },
  {
   "cell_type": "code",
   "execution_count": 19,
   "metadata": {
    "colab": {
     "base_uri": "https://localhost:8080/",
     "height": 591
    },
    "id": "xq8hRIqdv4Yv",
    "outputId": "8874add1-480f-44a8-b08c-7006318e6da8"
   },
   "outputs": [
    {
     "data": {
      "text/plain": [
       "<matplotlib.axes._subplots.AxesSubplot at 0x7f6826042f60>"
      ]
     },
     "execution_count": 19,
     "metadata": {
      "tags": []
     },
     "output_type": "execute_result"
    },
    {
     "data": {
      "image/png": "[encoded data removed]",
      "text/plain": [
       "<Figure size 1440x720 with 4 Axes>"
      ]
     },
     "metadata": {
      "needs_background": "light",
      "tags": []
     },
     "output_type": "display_data"
    }
   ],
   "source": [
    "fig = plt.figure(figsize=(20,10))\n",
    "fig.add_subplot(2,2,1)\n",
    "sns.boxenplot(x='RainTomorrow',y='Humidity9am',data=data,palette='Set1')\n",
    "fig.add_subplot(2,2,2)\n",
    "sns.boxenplot(x='RainTomorrow',y='Humidity3pm',data=data,palette='Set1')\n",
    "fig.add_subplot(2,2,3)\n",
    "sns.boxenplot(x='RainTomorrow',y='Pressure9am',data=data,palette='Set1')\n",
    "fig.add_subplot(2,2,4)\n",
    "sns.boxenplot(x='RainTomorrow',y='Pressure3pm',data=data,palette='Set1')"
   ]
  },
  {
   "cell_type": "markdown",
   "metadata": {
    "id": "dtfxyIyvx7j2"
   },
   "source": [
    "The above plots show how humidity at 9am and 3pm have a stong effect on the rain the next day. Higher the humidity, greater the chance of rain the next day, as one would expect. Similarly the pressure factor also contributes a good ammount in determining the rain tomorrow factor, lower the pressure higher the probability of rain happening the next day."
   ]
  },
  {
   "cell_type": "code",
   "execution_count": 20,
   "metadata": {
    "colab": {
     "base_uri": "https://localhost:8080/",
     "height": 313
    },
    "id": "QYdNQYLNv4ZG",
    "outputId": "02148d89-bb30-4a24-dbc8-9abb4f7c8296"
   },
   "outputs": [
    {
     "data": {
      "text/plain": [
       "<matplotlib.axes._subplots.AxesSubplot at 0x7f6825f4e748>"
      ]
     },
     "execution_count": 20,
     "metadata": {
      "tags": []
     },
     "output_type": "execute_result"
    },
    {
     "data": {
      "image/png": "[encoded data removed]",
      "text/plain": [
       "<Figure size 1440x720 with 2 Axes>"
      ]
     },
     "metadata": {
      "needs_background": "light",
      "tags": []
     },
     "output_type": "display_data"
    }
   ],
   "source": [
    "fig = plt.figure(figsize=(20,10))\n",
    "fig.add_subplot(2,2,1)\n",
    "sns.boxplot(x='RainTomorrow',y='Temp9am',data=data,palette='Blues')\n",
    "fig.add_subplot(2,2,2)\n",
    "sns.boxplot(x='RainTomorrow',y='Temp3pm',data=data,palette='Blues')"
   ]
  },
  {
   "cell_type": "markdown",
   "metadata": {
    "id": "JI7j8cNAyxnb"
   },
   "source": [
    "The plots show that rain tomorrow hardly depends on the temperature of the day at 9am but the temperature at 3pm does moderately affect the rain, lower temperatures results in higher chance of rain."
   ]
  },
  {
   "cell_type": "code",
   "execution_count": 21,
   "metadata": {
    "colab": {
     "base_uri": "https://localhost:8080/"
    },
    "id": "Gi4UKCnHv4ZN",
    "outputId": "a4ede572-5b30-4701-f93a-440439c4492a"
   },
   "outputs": [
    {
     "name": "stdout",
     "output_type": "stream",
     "text": [
      "Location Classes - ['Albury' 'BadgerysCreek' 'Cobar' 'CoffsHarbour' 'Moree' 'Newcastle'\n",
      " 'NorahHead' 'NorfolkIsland' 'Penrith' 'Richmond' 'Sydney' 'SydneyAirport'\n",
      " 'WaggaWagga' 'Williamtown' 'Wollongong' 'Canberra' 'Tuggeranong'\n",
      " 'MountGinini' 'Ballarat' 'Bendigo' 'Sale' 'MelbourneAirport' 'Melbourne'\n",
      " 'Mildura' 'Nhil' 'Portland' 'Watsonia' 'Dartmoor' 'Brisbane' 'Cairns'\n",
      " 'GoldCoast' 'Townsville' 'Adelaide' 'MountGambier' 'Nuriootpa' 'Woomera'\n",
      " 'Albany' 'Witchcliffe' 'PearceRAAF' 'PerthAirport' 'Perth' 'SalmonGums'\n",
      " 'Walpole' 'Hobart' 'Launceston' 'AliceSprings' 'Darwin' 'Katherine'\n",
      " 'Uluru'] \n",
      "\n",
      "WindGustDir Classes - ['W' 'WNW' 'WSW' 'NE' 'NNW' 'N' 'NNE' 'SW' 'ENE' 'SSE' 'S' 'NW' 'SE' 'ESE'\n",
      " 'E' 'SSW'] \n",
      "\n",
      "WindDir9am Classes - ['W' 'NNW' 'SE' 'ENE' 'SW' 'SSE' 'S' 'NE' 'SSW' 'N' 'WSW' 'ESE' 'E' 'NW'\n",
      " 'WNW' 'NNE'] \n",
      "\n",
      "WindDir3pm Classes - ['WNW' 'WSW' 'E' 'NW' 'W' 'SSE' 'ESE' 'ENE' 'NNW' 'SSW' 'SW' 'SE' 'N' 'S'\n",
      " 'NNE' 'NE'] \n",
      "\n",
      "RainToday Classes - ['No' 'Yes'] \n",
      "\n",
      "RainTomorrow Classes - ['No' 'Yes'] \n",
      "\n"
     ]
    }
   ],
   "source": [
    "def cat_classes(data,columns):\n",
    "    for i in columns:\n",
    "        print(i,'Classes -',data[i].unique(),'\\n') \n",
    "cat_classes(data,categorical_columns[1:])"
   ]
  },
  {
   "cell_type": "code",
   "execution_count": 22,
   "metadata": {
    "colab": {
     "base_uri": "https://localhost:8080/",
     "height": 731
    },
    "id": "OfQJgyQ0v4ZU",
    "outputId": "4e7aa54b-3d3d-4b59-81e4-57d2f5d485a5"
   },
   "outputs": [
    {
     "data": {
      "text/plain": [
       "<matplotlib.axes._subplots.AxesSubplot at 0x7f682bb4e358>"
      ]
     },
     "execution_count": 22,
     "metadata": {
      "tags": []
     },
     "output_type": "execute_result"
    },
    {
     "data": {
      "image/png": "[encoded data removed]",
      "text/plain": [
       "<Figure size 576x864 with 1 Axes>"
      ]
     },
     "metadata": {
      "needs_background": "light",
      "tags": []
     },
     "output_type": "display_data"
    }
   ],
   "source": [
    "#plot showing rain in different locations\n",
    "plt.figure(figsize=(8,12))\n",
    "sns.countplot(y='Location',hue='RainTomorrow',data=data,palette='mako')"
   ]
  },
  {
   "cell_type": "code",
   "execution_count": 23,
   "metadata": {
    "colab": {
     "base_uri": "https://localhost:8080/",
     "height": 589
    },
    "id": "zQX03TwAv4ZZ",
    "outputId": "f96a0f51-5702-48e8-822e-045adcffd0d9"
   },
   "outputs": [
    {
     "data": {
      "text/plain": [
       "<matplotlib.axes._subplots.AxesSubplot at 0x7f6825af1048>"
      ]
     },
     "execution_count": 23,
     "metadata": {
      "tags": []
     },
     "output_type": "execute_result"
    },
    {
     "data": {
      "image/png": "[encoded data removed]",
      "text/plain": [
       "<Figure size 1440x720 with 4 Axes>"
      ]
     },
     "metadata": {
      "needs_background": "light",
      "tags": []
     },
     "output_type": "display_data"
    }
   ],
   "source": [
    "fig = plt.figure(figsize=(20,10))\n",
    "fig.add_subplot(2,2,1)\n",
    "sns.countplot(x='WindGustDir',hue = 'RainTomorrow',data=data,palette='Paired')\n",
    "fig.add_subplot(2,2,2)\n",
    "sns.countplot(x='WindDir9am',hue = 'RainTomorrow',data=data,palette='Paired')\n",
    "fig.add_subplot(2,2,3)\n",
    "sns.countplot(x='WindDir3pm', hue = 'RainTomorrow',data=data,palette='Paired')\n",
    "fig.add_subplot(2,2,4)\n",
    "sns.countplot(x='RainToday',hue = 'RainTomorrow',data=data,palette='Paired')"
   ]
  },
  {
   "cell_type": "markdown",
   "metadata": {
    "id": "J2sq2waizcJt"
   },
   "source": [
    "The plots show how wind directions affect the next day's rain. It also shows that the chances of rain occuring the next day is higher if it rained on that particular day."
   ]
  },
  {
   "cell_type": "markdown",
   "metadata": {
    "id": "YWPcQPPX4KYo"
   },
   "source": [
    "<h3>Hypothesis Testing"
   ]
  },
  {
   "cell_type": "markdown",
   "metadata": {
    "id": "XDNgcCbt4PLf"
   },
   "source": [
    "Hypothesis: The humidtiy at 3pm of the current day, when the rain tomorrow is yes, has an mean value greater than 60.<br>\n",
    "H0 (null hypothesis) : X' <= 68.1<br>\n",
    "H1 (alternate hypothesis): X' > 68.1"
   ]
  },
  {
   "cell_type": "code",
   "execution_count": 69,
   "metadata": {
    "colab": {
     "base_uri": "https://localhost:8080/"
    },
    "id": "rw3G-br94JG3",
    "outputId": "b60f7b62-e87f-4a73-da51-7fbe92b089cf"
   },
   "outputs": [
    {
     "name": "stdout",
     "output_type": "stream",
     "text": [
      "Mean = 68.27631936105608 \n",
      "Standard Deviation = 18.98045350307591 \n",
      "Number of samples (n) = 31877\n"
     ]
    }
   ],
   "source": [
    "#finding the mean and standard deviation of the humidity3pm when raintomorrow is Yes\n",
    "mean = data[data['RainTomorrow']=='Yes']['Humidity3pm'].mean()\n",
    "std = data[data['RainTomorrow']=='Yes']['Humidity3pm'].std()\n",
    "n = len(data[data['RainTomorrow']=='Yes']['Humidity3pm'])\n",
    "print('Mean =',mean,'\\nStandard Deviation =',std,'\\nNumber of samples (n) =',n)"
   ]
  },
  {
   "cell_type": "code",
   "execution_count": 70,
   "metadata": {
    "colab": {
     "base_uri": "https://localhost:8080/"
    },
    "id": "WIgX_oB1G_Jf",
    "outputId": "32325adc-379c-4fe1-c3ee-9803674ca8ff"
   },
   "outputs": [
    {
     "name": "stdout",
     "output_type": "stream",
     "text": [
      "0.10630846898936762\n"
     ]
    }
   ],
   "source": [
    "print(std/np.sqrt(n))"
   ]
  },
  {
   "cell_type": "markdown",
   "metadata": {
    "id": "SDhQdb46AXBJ"
   },
   "source": [
    "Now since sample size is greater than 30, By central limit theorem we can assume that X follows Normal distribution <br>\n",
    "X ~ N(68.2763, 0.1063<sup>2</sup>)"
   ]
  },
  {
   "cell_type": "code",
   "execution_count": 71,
   "metadata": {
    "colab": {
     "base_uri": "https://localhost:8080/"
    },
    "id": "rHRX-liqAFl6",
    "outputId": "3c4c483c-6447-43a2-c7d5-7271e8ea15a1"
   },
   "outputs": [
    {
     "name": "stdout",
     "output_type": "stream",
     "text": [
      "1.658563637801256\n"
     ]
    }
   ],
   "source": [
    "#printing the z score\n",
    "z = (mean - 68.1) / (std/np.sqrt(n))\n",
    "print(z)"
   ]
  },
  {
   "cell_type": "markdown",
   "metadata": {
    "id": "G7iCUH2EBcDj"
   },
   "source": [
    "P(z <= 1.66) = 0.95154 <br>\n",
    "P(z >= 1.66) = 1 - 0.95154 = 0.04846 <br>\n",
    "P value = 0.04646 <br>\n",
    "Now since the P value is less than 0.05 we should reject the null hypothesis (H0) and conclude the alternate hypothesis is true."
   ]
  },
  {
   "cell_type": "markdown",
   "metadata": {
    "id": "-WlTMNFkv4Zh"
   },
   "source": [
    "<h3>Handling Categorical Columns"
   ]
  },
  {
   "cell_type": "code",
   "execution_count": null,
   "metadata": {
    "colab": {
     "base_uri": "https://localhost:8080/"
    },
    "id": "Rl8JZg4vv4Zi",
    "outputId": "014fbe8c-b874-4099-8363-f01fc20252c2"
   },
   "outputs": [
    {
     "data": {
      "text/plain": [
       "['Date',\n",
       " 'Location',\n",
       " 'WindGustDir',\n",
       " 'WindDir9am',\n",
       " 'WindDir3pm',\n",
       " 'RainToday',\n",
       " 'RainTomorrow']"
      ]
     },
     "execution_count": 23,
     "metadata": {
      "tags": []
     },
     "output_type": "execute_result"
    }
   ],
   "source": [
    "categorical_columns"
   ]
  },
  {
   "cell_type": "markdown",
   "metadata": {
    "id": "AMaZD6Pmv4Zt"
   },
   "source": [
    "Coverting RainToday and RainTomorrow columns to numerical columns by replacing Yes with 1 and No with 0."
   ]
  },
  {
   "cell_type": "code",
   "execution_count": null,
   "metadata": {
    "id": "3WvIbYwgv4Zw"
   },
   "outputs": [],
   "source": [
    "data['RainToday'] = data['RainToday'].map({'Yes':1,'No':0})\n",
    "data['RainTomorrow'] = data['RainTomorrow'].map({'Yes':1,'No':0})"
   ]
  },
  {
   "cell_type": "markdown",
   "metadata": {
    "id": "yJEm7I_Iv4Z4"
   },
   "source": [
    "For the other columns the encoding is done depending on how they affect the data. (Necessary for models that depend on distance)"
   ]
  },
  {
   "cell_type": "code",
   "execution_count": null,
   "metadata": {
    "id": "AvofNfzBv4Z5"
   },
   "outputs": [],
   "source": [
    "from sklearn.preprocessing import LabelEncoder\n",
    "encoder = LabelEncoder()"
   ]
  },
  {
   "cell_type": "code",
   "execution_count": null,
   "metadata": {
    "colab": {
     "base_uri": "https://localhost:8080/"
    },
    "id": "NnF1UxjMv4Z_",
    "outputId": "bdb50d20-a9b6-46c4-c727-99440c0ebaf6"
   },
   "outputs": [
    {
     "data": {
      "text/plain": [
       "WindGustDir\n",
       "ESE     629\n",
       "NNW     634\n",
       "E       701\n",
       "SE      710\n",
       "SW      726\n",
       "ENE     739\n",
       "NE      748\n",
       "WSW     791\n",
       "NW      803\n",
       "NNE     818\n",
       "WNW     830\n",
       "N       841\n",
       "SSE     862\n",
       "SSW    1039\n",
       "S      1293\n",
       "W      2069\n",
       "Name: RainTomorrow, dtype: int64"
      ]
     },
     "execution_count": 26,
     "metadata": {
      "tags": []
     },
     "output_type": "execute_result"
    }
   ],
   "source": [
    "#example\n",
    "data.groupby('WindGustDir')['RainTomorrow'].sum().sort_values()"
   ]
  },
  {
   "cell_type": "markdown",
   "metadata": {
    "id": "8Tg6y9Pfv4aF"
   },
   "source": [
    "So now we need to encode ESE to 0, ENE to 1, NE to 2 and so on.. Which is done by the following function."
   ]
  },
  {
   "cell_type": "code",
   "execution_count": null,
   "metadata": {
    "id": "M1mgfCZ5v4aG"
   },
   "outputs": [],
   "source": [
    "def encode(data,columns):\n",
    "    for column in columns:\n",
    "        ordered_column = data.groupby(column)['RainTomorrow'].sum().sort_values()\n",
    "        encoder.fit(data[column])\n",
    "        encoder.classes_ = ordered_column.index\n",
    "        data[column] = encoder.transform(data[column])"
   ]
  },
  {
   "cell_type": "code",
   "execution_count": null,
   "metadata": {
    "id": "IUpzGSb6v4aS"
   },
   "outputs": [],
   "source": [
    "encode(data,['Location','WindGustDir','WindDir9am','WindDir3pm'])"
   ]
  },
  {
   "cell_type": "code",
   "execution_count": null,
   "metadata": {
    "colab": {
     "base_uri": "https://localhost:8080/"
    },
    "id": "TtgRsjXXv4aY",
    "outputId": "3fb25749-1aa6-4108-d990-3dab4f91f148"
   },
   "outputs": [
    {
     "name": "stdout",
     "output_type": "stream",
     "text": [
      "<class 'pandas.core.frame.DataFrame'>\n",
      "RangeIndex: 63535 entries, 0 to 63534\n",
      "Data columns (total 20 columns):\n",
      " #   Column         Non-Null Count  Dtype  \n",
      "---  ------         --------------  -----  \n",
      " 0   Date           63535 non-null  object \n",
      " 1   Location       63535 non-null  int64  \n",
      " 2   MinTemp        63535 non-null  float64\n",
      " 3   MaxTemp        63535 non-null  float64\n",
      " 4   Rainfall       63535 non-null  float64\n",
      " 5   WindGustDir    63535 non-null  int64  \n",
      " 6   WindGustSpeed  63535 non-null  float64\n",
      " 7   WindDir9am     63535 non-null  int64  \n",
      " 8   WindDir3pm     63535 non-null  int64  \n",
      " 9   WindSpeed9am   63535 non-null  float64\n",
      " 10  WindSpeed3pm   63535 non-null  float64\n",
      " 11  Humidity9am    63535 non-null  float64\n",
      " 12  Humidity3pm    63535 non-null  float64\n",
      " 13  Pressure9am    63535 non-null  float64\n",
      " 14  Pressure3pm    63535 non-null  float64\n",
      " 15  Temp9am        63535 non-null  float64\n",
      " 16  Temp3pm        63535 non-null  float64\n",
      " 17  RainToday      63535 non-null  int64  \n",
      " 18  RISK_MM        63535 non-null  float64\n",
      " 19  RainTomorrow   63535 non-null  int64  \n",
      "dtypes: float64(13), int64(6), object(1)\n",
      "memory usage: 9.7+ MB\n"
     ]
    }
   ],
   "source": [
    "data.info()"
   ]
  },
  {
   "cell_type": "code",
   "execution_count": null,
   "metadata": {
    "colab": {
     "base_uri": "https://localhost:8080/",
     "height": 573
    },
    "id": "G_tYpv-Sv4ag",
    "outputId": "ee84fea3-2e96-40ac-8928-be6fb8580547"
   },
   "outputs": [
    {
     "data": {
      "text/plain": [
       "<matplotlib.axes._subplots.AxesSubplot at 0x7f7e390dd668>"
      ]
     },
     "execution_count": 30,
     "metadata": {
      "tags": []
     },
     "output_type": "execute_result"
    },
    {
     "data": {
      "image/png": "[encoded data removed]",
      "text/plain": [
       "<Figure size 576x576 with 2 Axes>"
      ]
     },
     "metadata": {
      "needs_background": "light",
      "tags": []
     },
     "output_type": "display_data"
    }
   ],
   "source": [
    "plt.figure(figsize=(8,8))\n",
    "sns.heatmap(data.corr(),cmap='magma')"
   ]
  },
  {
   "cell_type": "markdown",
   "metadata": {
    "id": "7mwQU_JTv4am"
   },
   "source": [
    "<h3>Feature Scaling"
   ]
  },
  {
   "cell_type": "code",
   "execution_count": null,
   "metadata": {
    "id": "zL8VKN-Tv4an"
   },
   "outputs": [],
   "source": [
    "from sklearn.preprocessing import StandardScaler\n",
    "scaler = StandardScaler()"
   ]
  },
  {
   "cell_type": "code",
   "execution_count": null,
   "metadata": {
    "id": "gD7VXs-5v4as"
   },
   "outputs": [],
   "source": [
    "X = data.loc[:,'Location':'RainToday']\n",
    "Y = data['RainTomorrow']"
   ]
  },
  {
   "cell_type": "code",
   "execution_count": null,
   "metadata": {
    "id": "p3lDFZBkv4ay"
   },
   "outputs": [],
   "source": [
    "X = scaler.fit_transform(X)"
   ]
  },
  {
   "cell_type": "markdown",
   "metadata": {
    "id": "icMMVdvOv4a4"
   },
   "source": [
    "<h3>Train Test Split"
   ]
  },
  {
   "cell_type": "code",
   "execution_count": null,
   "metadata": {
    "id": "rj69R4UHv4a-"
   },
   "outputs": [],
   "source": [
    "from sklearn.model_selection import train_test_split\n",
    "X_train,X_test,Y_train,Y_test = train_test_split(X,Y,test_size = 0.2)"
   ]
  },
  {
   "cell_type": "markdown",
   "metadata": {
    "id": "TjQ3HOY_v4bG"
   },
   "source": [
    "<h3>Machine Learning Models"
   ]
  },
  {
   "cell_type": "code",
   "execution_count": null,
   "metadata": {
    "id": "Qn0MotsOv4bI"
   },
   "outputs": [],
   "source": [
    "from sklearn.metrics import precision_score,recall_score,confusion_matrix,f1_score\n",
    "from sklearn.model_selection import GridSearchCV"
   ]
  },
  {
   "cell_type": "code",
   "execution_count": null,
   "metadata": {
    "id": "E0mfhuBPv4bN"
   },
   "outputs": [],
   "source": [
    "#function to use grid seach to find the best parameters of a model\n",
    "def get_best_para(model,parameters,x,y):\n",
    "    grid_search = GridSearchCV(estimator=model,param_grid=parameters,cv=5,n_jobs=-1)\n",
    "    grid_search.fit(x,y)\n",
    "    return grid_search.best_params_"
   ]
  },
  {
   "cell_type": "code",
   "execution_count": null,
   "metadata": {
    "id": "NEenRVRYv4bS"
   },
   "outputs": [],
   "source": [
    "#function to check the performance of a model on the train data\n",
    "def performance(y,y_predict):\n",
    "    print('Precision =',precision_score(y,y_predict))\n",
    "    print('Recall of =',recall_score(y,y_predict))\n",
    "    print('F1 Score =',f1_score(y,y_predict))\n",
    "    print('Confusion Matrix :-\\n',confusion_matrix(y,y_predict))\n",
    "    sns.heatmap(confusion_matrix(y,y_predict),cmap='Blues')"
   ]
  },
  {
   "cell_type": "markdown",
   "metadata": {
    "id": "K5wllk2mv4bZ"
   },
   "source": [
    "<h4>Stochastic Gradient Desent Classifier"
   ]
  },
  {
   "cell_type": "code",
   "execution_count": null,
   "metadata": {
    "colab": {
     "base_uri": "https://localhost:8080/"
    },
    "id": "zJBHcv3Av4ba",
    "outputId": "cf5e41ff-93bb-4b82-a53d-341f6c77daa0"
   },
   "outputs": [
    {
     "data": {
      "text/plain": [
       "SGDClassifier(alpha=0.0001, average=False, class_weight=None,\n",
       "              early_stopping=False, epsilon=0.1, eta0=0.0, fit_intercept=True,\n",
       "              l1_ratio=0.15, learning_rate='optimal', loss='log', max_iter=1000,\n",
       "              n_iter_no_change=5, n_jobs=None, penalty='l2', power_t=0.5,\n",
       "              random_state=42, shuffle=True, tol=0.001, validation_fraction=0.1,\n",
       "              verbose=0, warm_start=False)"
      ]
     },
     "execution_count": 66,
     "metadata": {
      "tags": []
     },
     "output_type": "execute_result"
    }
   ],
   "source": [
    "from sklearn.linear_model import SGDClassifier\n",
    "sgd_clf = SGDClassifier(random_state=42,loss='log')\n",
    "sgd_clf.fit(X_train,Y_train)"
   ]
  },
  {
   "cell_type": "code",
   "execution_count": null,
   "metadata": {
    "colab": {
     "base_uri": "https://localhost:8080/",
     "height": 382
    },
    "id": "NRaiMKnsv4bv",
    "outputId": "19be3215-6cb8-4d8f-a9ca-b214928096ec"
   },
   "outputs": [
    {
     "name": "stdout",
     "output_type": "stream",
     "text": [
      "Performance of Stochastic Gradient Desent Classifier on train data\n",
      "Precision = 0.7314756174794174\n",
      "Recall of = 0.407012598008986\n",
      "F1 Score = 0.5230089998301919\n",
      "Confusion Matrix :-\n",
      " [[37781  1696]\n",
      " [ 6731  4620]]\n"
     ]
    },
    {
     "data": {
      "image/png": "[encoded data removed]",
      "text/plain": [
       "<Figure size 432x288 with 2 Axes>"
      ]
     },
     "metadata": {
      "needs_background": "light",
      "tags": []
     },
     "output_type": "display_data"
    }
   ],
   "source": [
    "#testing the model on the train data\n",
    "y_train_predict = sgd_clf.predict(X_train)\n",
    "print('Performance of Stochastic Gradient Desent Classifier on train data')\n",
    "performance(Y_train,y_train_predict)"
   ]
  },
  {
   "cell_type": "code",
   "execution_count": null,
   "metadata": {
    "colab": {
     "base_uri": "https://localhost:8080/",
     "height": 382
    },
    "id": "zHwVMLvHv4b0",
    "outputId": "f86574e6-2456-42c7-ee8c-36559baaaeb9"
   },
   "outputs": [
    {
     "name": "stdout",
     "output_type": "stream",
     "text": [
      "Performance of Stochastic Gradient Desent Classifier on test data\n",
      "Precision = 0.729375\n",
      "Recall of = 0.40492713393476754\n",
      "F1 Score = 0.5207496653279785\n",
      "Confusion Matrix :-\n",
      " [[9392  433]\n",
      " [1715 1167]]\n"
     ]
    },
    {
     "data": {
      "image/png": "[encoded data removed]",
      "text/plain": [
       "<Figure size 432x288 with 2 Axes>"
      ]
     },
     "metadata": {
      "needs_background": "light",
      "tags": []
     },
     "output_type": "display_data"
    }
   ],
   "source": [
    "#testing the model on the test data\n",
    "y_test_predict = sgd_clf.predict(X_test)\n",
    "print('Performance of Stochastic Gradient Desent Classifier on test data')\n",
    "performance(Y_test,y_test_predict)"
   ]
  },
  {
   "cell_type": "markdown",
   "metadata": {
    "id": "U3k94JYDv4b6"
   },
   "source": [
    "<h4>Support Vector Machine Classifier"
   ]
  },
  {
   "cell_type": "code",
   "execution_count": null,
   "metadata": {
    "colab": {
     "base_uri": "https://localhost:8080/"
    },
    "id": "fHbXrrouv4b7",
    "outputId": "b4e2aff4-d149-4aff-cdda-d95d6091b891"
   },
   "outputs": [
    {
     "data": {
      "text/plain": [
       "SVC(C=1.0, break_ties=False, cache_size=200, class_weight=None, coef0=0.0,\n",
       "    decision_function_shape='ovr', degree=3, gamma='auto', kernel='rbf',\n",
       "    max_iter=-1, probability=False, random_state=None, shrinking=True,\n",
       "    tol=0.001, verbose=False)"
      ]
     },
     "execution_count": 41,
     "metadata": {
      "tags": []
     },
     "output_type": "execute_result"
    }
   ],
   "source": [
    "from sklearn.svm import SVC\n",
    "svc_clf = SVC(gamma='auto')\n",
    "svc_clf.fit(X_train,Y_train)"
   ]
  },
  {
   "cell_type": "code",
   "execution_count": null,
   "metadata": {
    "colab": {
     "base_uri": "https://localhost:8080/",
     "height": 382
    },
    "id": "lIHqDPUvv4cZ",
    "outputId": "38410476-39f6-4457-ada6-a1a217fd42af"
   },
   "outputs": [
    {
     "name": "stdout",
     "output_type": "stream",
     "text": [
      "Performance of Support Vector Machine Classifier on train data\n",
      "Precision = 0.8140170390612441\n",
      "Recall of = 0.4461280944410184\n",
      "F1 Score = 0.5763715001138174\n",
      "Confusion Matrix :-\n",
      " [[38320  1157]\n",
      " [ 6287  5064]]\n"
     ]
    },
    {
     "data": {
      "image/png": "[encoded data removed]",
      "text/plain": [
       "<Figure size 432x288 with 2 Axes>"
      ]
     },
     "metadata": {
      "needs_background": "light",
      "tags": []
     },
     "output_type": "display_data"
    }
   ],
   "source": [
    "#testing the model on the train data\n",
    "y_train_predict = svc_clf.predict(X_train)\n",
    "print('Performance of Support Vector Machine Classifier on train data')\n",
    "performance(Y_train,y_train_predict)"
   ]
  },
  {
   "cell_type": "code",
   "execution_count": null,
   "metadata": {
    "colab": {
     "base_uri": "https://localhost:8080/",
     "height": 382
    },
    "id": "ENup4bvIv4cg",
    "outputId": "0c703544-db33-47a4-b0aa-63805f87da4c"
   },
   "outputs": [
    {
     "name": "stdout",
     "output_type": "stream",
     "text": [
      "Performance of Support Vector Machine Classifier on test data\n",
      "Precision = 0.7802690582959642\n",
      "Recall of = 0.4226231783483692\n",
      "F1 Score = 0.548278190411884\n",
      "Confusion Matrix :-\n",
      " [[9482  343]\n",
      " [1664 1218]]\n"
     ]
    },
    {
     "data": {
      "image/png": "[encoded data removed]",
      "text/plain": [
       "<Figure size 432x288 with 2 Axes>"
      ]
     },
     "metadata": {
      "needs_background": "light",
      "tags": []
     },
     "output_type": "display_data"
    }
   ],
   "source": [
    "#testing the model on the test data\n",
    "y_test_predict = svc_clf.predict(X_test)\n",
    "print('Performance of Support Vector Machine Classifier on test data')\n",
    "performance(Y_test,y_test_predict)"
   ]
  },
  {
   "cell_type": "markdown",
   "metadata": {
    "id": "XHLjxDX3cs7T"
   },
   "source": [
    "<h4>Logistic Regression"
   ]
  },
  {
   "cell_type": "code",
   "execution_count": null,
   "metadata": {
    "colab": {
     "base_uri": "https://localhost:8080/"
    },
    "id": "NYXC5PlRb5ML",
    "outputId": "477d082d-9b19-482f-f31f-f4587d723472"
   },
   "outputs": [
    {
     "data": {
      "text/plain": [
       "LogisticRegression(C=1.0, class_weight=None, dual=False, fit_intercept=True,\n",
       "                   intercept_scaling=1, l1_ratio=None, max_iter=100,\n",
       "                   multi_class='auto', n_jobs=None, penalty='l2',\n",
       "                   random_state=None, solver='lbfgs', tol=0.0001, verbose=0,\n",
       "                   warm_start=False)"
      ]
     },
     "execution_count": 44,
     "metadata": {
      "tags": []
     },
     "output_type": "execute_result"
    }
   ],
   "source": [
    "from sklearn.linear_model import LogisticRegression\n",
    "log_reg = LogisticRegression()\n",
    "log_reg.fit(X_train,Y_train)"
   ]
  },
  {
   "cell_type": "code",
   "execution_count": null,
   "metadata": {
    "colab": {
     "base_uri": "https://localhost:8080/",
     "height": 382
    },
    "id": "UzesZZfscS1H",
    "outputId": "c6de5ff4-1c0f-4e59-83b0-a21f9c763c54"
   },
   "outputs": [
    {
     "name": "stdout",
     "output_type": "stream",
     "text": [
      "Performance of Logistic Regression on train data\n",
      "Precision = 0.7106962380685008\n",
      "Recall of = 0.4460399964760814\n",
      "F1 Score = 0.5480920162381596\n",
      "Confusion Matrix :-\n",
      " [[37416  2061]\n",
      " [ 6288  5063]]\n"
     ]
    },
    {
     "data": {
      "image/png": "[encoded data removed]",
      "text/plain": [
       "<Figure size 432x288 with 2 Axes>"
      ]
     },
     "metadata": {
      "needs_background": "light",
      "tags": []
     },
     "output_type": "display_data"
    }
   ],
   "source": [
    "#testing the model on the train data\n",
    "y_train_predict = log_reg.predict(X_train)\n",
    "print('Performance of Logistic Regression on train data')\n",
    "performance(Y_train,y_train_predict)"
   ]
  },
  {
   "cell_type": "code",
   "execution_count": null,
   "metadata": {
    "colab": {
     "base_uri": "https://localhost:8080/",
     "height": 382
    },
    "id": "bafxjxk1cXz_",
    "outputId": "64e5d27e-c6dc-437c-a418-612291a84f53"
   },
   "outputs": [
    {
     "name": "stdout",
     "output_type": "stream",
     "text": [
      "Performance of Logistic Regression on test data\n",
      "Precision = 0.7073304157549234\n",
      "Recall of = 0.448646773074254\n",
      "F1 Score = 0.5490445859872611\n",
      "Confusion Matrix :-\n",
      " [[9290  535]\n",
      " [1589 1293]]\n"
     ]
    },
    {
     "data": {
      "image/png": "[encoded data removed]",
      "text/plain": [
       "<Figure size 432x288 with 2 Axes>"
      ]
     },
     "metadata": {
      "needs_background": "light",
      "tags": []
     },
     "output_type": "display_data"
    }
   ],
   "source": [
    "#testing the model on the test data\n",
    "y_test_predict = log_reg.predict(X_test)\n",
    "print('Performance of Logistic Regression on test data')\n",
    "performance(Y_test,y_test_predict)"
   ]
  },
  {
   "cell_type": "markdown",
   "metadata": {
    "id": "nh0D0yoGv4cn"
   },
   "source": [
    "<h4>K Neighbors Classifier"
   ]
  },
  {
   "cell_type": "code",
   "execution_count": null,
   "metadata": {
    "colab": {
     "base_uri": "https://localhost:8080/"
    },
    "id": "awy_-epcv4co",
    "outputId": "911f54ff-3b8f-428a-d765-a503407425af"
   },
   "outputs": [
    {
     "data": {
      "text/plain": [
       "{'n_neighbors': 25}"
      ]
     },
     "execution_count": 47,
     "metadata": {
      "tags": []
     },
     "output_type": "execute_result"
    }
   ],
   "source": [
    "from sklearn.neighbors import KNeighborsClassifier\n",
    "parameter = [{'n_neighbors':[10,15,20,25,30]}] \n",
    "get_best_para(KNeighborsClassifier(),parameter,X_train,Y_train)"
   ]
  },
  {
   "cell_type": "code",
   "execution_count": null,
   "metadata": {
    "colab": {
     "base_uri": "https://localhost:8080/"
    },
    "id": "7p3XHJTQv4cu",
    "outputId": "4a954461-4c64-4493-eef3-75841fe69c4e"
   },
   "outputs": [
    {
     "data": {
      "text/plain": [
       "KNeighborsClassifier(algorithm='auto', leaf_size=30, metric='minkowski',\n",
       "                     metric_params=None, n_jobs=None, n_neighbors=25, p=2,\n",
       "                     weights='uniform')"
      ]
     },
     "execution_count": 48,
     "metadata": {
      "tags": []
     },
     "output_type": "execute_result"
    }
   ],
   "source": [
    "knn_clf = KNeighborsClassifier(n_neighbors=25)\n",
    "knn_clf.fit(X_train,Y_train)"
   ]
  },
  {
   "cell_type": "code",
   "execution_count": null,
   "metadata": {
    "colab": {
     "base_uri": "https://localhost:8080/",
     "height": 382
    },
    "id": "1LNA3uUrv4cz",
    "outputId": "cfb154e9-6148-42f4-a39a-2c99ea82bc94"
   },
   "outputs": [
    {
     "name": "stdout",
     "output_type": "stream",
     "text": [
      "Performance of K Neighbors Classifier on train data\n",
      "Precision = 0.7895370848390982\n",
      "Recall of = 0.4041934631310017\n",
      "F1 Score = 0.5346696189255331\n",
      "Confusion Matrix :-\n",
      " [[38254  1223]\n",
      " [ 6763  4588]]\n"
     ]
    },
    {
     "data": {
      "image/png": "[encoded data removed]",
      "text/plain": [
       "<Figure size 432x288 with 2 Axes>"
      ]
     },
     "metadata": {
      "needs_background": "light",
      "tags": []
     },
     "output_type": "display_data"
    }
   ],
   "source": [
    "#testing the model on the train data\n",
    "y_train_predict = knn_clf.predict(X_train)\n",
    "print('Performance of K Neighbors Classifier on train data')\n",
    "performance(Y_train,y_train_predict)"
   ]
  },
  {
   "cell_type": "code",
   "execution_count": null,
   "metadata": {
    "colab": {
     "base_uri": "https://localhost:8080/",
     "height": 382
    },
    "id": "hwtJEvOnv4c3",
    "outputId": "5d3339cf-b9ec-4502-dd48-254e124cefd0"
   },
   "outputs": [
    {
     "name": "stdout",
     "output_type": "stream",
     "text": [
      "Performance of K Neighbors Classifier on test data\n",
      "Precision = 0.7616758241758241\n",
      "Recall of = 0.3848022206800833\n",
      "F1 Score = 0.5112955278930382\n",
      "Confusion Matrix :-\n",
      " [[9478  347]\n",
      " [1773 1109]]\n"
     ]
    },
    {
     "data": {
      "image/png": "[encoded data removed]",
      "text/plain": [
       "<Figure size 432x288 with 2 Axes>"
      ]
     },
     "metadata": {
      "needs_background": "light",
      "tags": []
     },
     "output_type": "display_data"
    }
   ],
   "source": [
    "#testing the model on the test data\n",
    "y_test_predict = knn_clf.predict(X_test)\n",
    "print('Performance of K Neighbors Classifier on test data')\n",
    "performance(Y_test,y_test_predict)"
   ]
  },
  {
   "cell_type": "markdown",
   "metadata": {
    "id": "NmCZP1csMFZW"
   },
   "source": [
    "<h4>Decision Tree Classifier"
   ]
  },
  {
   "cell_type": "code",
   "execution_count": null,
   "metadata": {
    "colab": {
     "base_uri": "https://localhost:8080/"
    },
    "id": "jKiV3bMbMOOH",
    "outputId": "b2e1e8fd-23df-44dc-8ccb-678558a27f54"
   },
   "outputs": [
    {
     "data": {
      "text/plain": [
       "{'max_depth': 7, 'min_samples_leaf': 10}"
      ]
     },
     "execution_count": 51,
     "metadata": {
      "tags": []
     },
     "output_type": "execute_result"
    }
   ],
   "source": [
    "from sklearn.tree import DecisionTreeClassifier\n",
    "parameter = [{'max_depth':[1,2,3,4,5,6,7,8,9,10],'min_samples_leaf':[1,5,10]}]\n",
    "get_best_para(DecisionTreeClassifier(),parameter,X_train,Y_train)"
   ]
  },
  {
   "cell_type": "code",
   "execution_count": null,
   "metadata": {
    "colab": {
     "base_uri": "https://localhost:8080/"
    },
    "id": "bfusLW4gNgrg",
    "outputId": "269c81a5-a8fb-48a2-90a2-1a53df82e0ad"
   },
   "outputs": [
    {
     "data": {
      "text/plain": [
       "DecisionTreeClassifier(ccp_alpha=0.0, class_weight=None, criterion='gini',\n",
       "                       max_depth=7, max_features=None, max_leaf_nodes=None,\n",
       "                       min_impurity_decrease=0.0, min_impurity_split=None,\n",
       "                       min_samples_leaf=10, min_samples_split=2,\n",
       "                       min_weight_fraction_leaf=0.0, presort='deprecated',\n",
       "                       random_state=None, splitter='best')"
      ]
     },
     "execution_count": 52,
     "metadata": {
      "tags": []
     },
     "output_type": "execute_result"
    }
   ],
   "source": [
    "dt_clf = DecisionTreeClassifier(max_depth=7,min_samples_leaf=10)\n",
    "dt_clf.fit(X_train,Y_train)"
   ]
  },
  {
   "cell_type": "code",
   "execution_count": null,
   "metadata": {
    "colab": {
     "base_uri": "https://localhost:8080/",
     "height": 382
    },
    "id": "kuGhfABBOxDp",
    "outputId": "046eacaa-6b96-4851-9ce5-aefaf2d13c82"
   },
   "outputs": [
    {
     "name": "stdout",
     "output_type": "stream",
     "text": [
      "Performance of Decision Tree Classifier on train data\n",
      "Precision = 0.761387011460476\n",
      "Recall of = 0.4565236543035856\n",
      "F1 Score = 0.5707991408272292\n",
      "Confusion Matrix :-\n",
      " [[37853  1624]\n",
      " [ 6169  5182]]\n"
     ]
    },
    {
     "data": {
      "image/png": "[encoded data removed]",
      "text/plain": [
       "<Figure size 432x288 with 2 Axes>"
      ]
     },
     "metadata": {
      "needs_background": "light",
      "tags": []
     },
     "output_type": "display_data"
    }
   ],
   "source": [
    "#testing the model on the train data\n",
    "y_train_predict = dt_clf.predict(X_train)\n",
    "print('Performance of Decision Tree Classifier on train data')\n",
    "performance(Y_train,y_train_predict)"
   ]
  },
  {
   "cell_type": "code",
   "execution_count": null,
   "metadata": {
    "colab": {
     "base_uri": "https://localhost:8080/",
     "height": 382
    },
    "id": "Wfdgl4adO0vu",
    "outputId": "6814976f-cf76-4f47-a59f-438bb878d994"
   },
   "outputs": [
    {
     "name": "stdout",
     "output_type": "stream",
     "text": [
      "Performance of Decision Tree Classifier on test data\n",
      "Precision = 0.712463768115942\n",
      "Recall of = 0.42643997224149893\n",
      "F1 Score = 0.5335359235945301\n",
      "Confusion Matrix :-\n",
      " [[9329  496]\n",
      " [1653 1229]]\n"
     ]
    },
    {
     "data": {
      "image/png": "[encoded data removed]",
      "text/plain": [
       "<Figure size 432x288 with 2 Axes>"
      ]
     },
     "metadata": {
      "needs_background": "light",
      "tags": []
     },
     "output_type": "display_data"
    }
   ],
   "source": [
    "#testing the model on the test data\n",
    "y_test_predict = dt_clf.predict(X_test)\n",
    "print('Performance of Decision Tree Classifier on test data')\n",
    "performance(Y_test,y_test_predict)"
   ]
  },
  {
   "cell_type": "markdown",
   "metadata": {
    "id": "DPnJIFeZPAcZ"
   },
   "source": [
    "<h4>Random Tree Classifier"
   ]
  },
  {
   "cell_type": "code",
   "execution_count": null,
   "metadata": {
    "colab": {
     "base_uri": "https://localhost:8080/"
    },
    "id": "_SB3nIW8PJ8m",
    "outputId": "ffad0dd5-6597-4d87-e6fa-029624dde252"
   },
   "outputs": [
    {
     "data": {
      "text/plain": [
       "{'max_depth': 200, 'min_samples_leaf': 5}"
      ]
     },
     "execution_count": 55,
     "metadata": {
      "tags": []
     },
     "output_type": "execute_result"
    }
   ],
   "source": [
    "from sklearn.ensemble import RandomForestClassifier\n",
    "parameter = {'max_depth':[10,100,200],'min_samples_leaf':[1,5,10]}\n",
    "get_best_para(RandomForestClassifier(n_estimators=50,n_jobs=-1),parameter,X_train,Y_train)"
   ]
  },
  {
   "cell_type": "code",
   "execution_count": null,
   "metadata": {
    "colab": {
     "base_uri": "https://localhost:8080/"
    },
    "id": "27DcjIkiPvhL",
    "outputId": "6f3b4079-510e-4723-f097-fbcb99925f17"
   },
   "outputs": [
    {
     "data": {
      "text/plain": [
       "RandomForestClassifier(bootstrap=True, ccp_alpha=0.0, class_weight=None,\n",
       "                       criterion='gini', max_depth=200, max_features='auto',\n",
       "                       max_leaf_nodes=None, max_samples=None,\n",
       "                       min_impurity_decrease=0.0, min_impurity_split=None,\n",
       "                       min_samples_leaf=5, min_samples_split=2,\n",
       "                       min_weight_fraction_leaf=0.0, n_estimators=500,\n",
       "                       n_jobs=-1, oob_score=False, random_state=None, verbose=0,\n",
       "                       warm_start=False)"
      ]
     },
     "execution_count": 57,
     "metadata": {
      "tags": []
     },
     "output_type": "execute_result"
    }
   ],
   "source": [
    "rnd_clf = RandomForestClassifier(n_estimators=500,n_jobs=-1,max_depth=200,min_samples_leaf=5)\n",
    "rnd_clf.fit(X_train,Y_train)"
   ]
  },
  {
   "cell_type": "code",
   "execution_count": null,
   "metadata": {
    "colab": {
     "base_uri": "https://localhost:8080/",
     "height": 382
    },
    "id": "GYpGWi5mSKPC",
    "outputId": "e8b98d06-d602-4b7d-f95c-99ebfeaee585"
   },
   "outputs": [
    {
     "name": "stdout",
     "output_type": "stream",
     "text": [
      "Performance of Random Forest Classifier on train data\n",
      "Precision = 0.9412128712871287\n",
      "Recall of = 0.6699850233459607\n",
      "F1 Score = 0.7827698008337193\n",
      "Confusion Matrix :-\n",
      " [[39002   475]\n",
      " [ 3746  7605]]\n"
     ]
    },
    {
     "data": {
      "image/png": "[encoded data removed]",
      "text/plain": [
       "<Figure size 432x288 with 2 Axes>"
      ]
     },
     "metadata": {
      "needs_background": "light",
      "tags": []
     },
     "output_type": "display_data"
    }
   ],
   "source": [
    "#testing the model on the train data\n",
    "y_train_predict = rnd_clf.predict(X_train)\n",
    "print('Performance of Random Forest Classifier on train data')\n",
    "performance(Y_train,y_train_predict)"
   ]
  },
  {
   "cell_type": "code",
   "execution_count": null,
   "metadata": {
    "colab": {
     "base_uri": "https://localhost:8080/",
     "height": 382
    },
    "id": "YbhVka3pSgrH",
    "outputId": "d9ab2d1f-475d-412b-a878-a3a288caf977"
   },
   "outputs": [
    {
     "name": "stdout",
     "output_type": "stream",
     "text": [
      "Performance of Random Forest Classifier on test data\n",
      "Precision = 0.772196261682243\n",
      "Recall of = 0.4587092297015961\n",
      "F1 Score = 0.5755333043099695\n",
      "Confusion Matrix :-\n",
      " [[9435  390]\n",
      " [1560 1322]]\n"
     ]
    },
    {
     "data": {
      "image/png": "[encoded data removed]",
      "text/plain": [
       "<Figure size 432x288 with 2 Axes>"
      ]
     },
     "metadata": {
      "needs_background": "light",
      "tags": []
     },
     "output_type": "display_data"
    }
   ],
   "source": [
    "#testing the model on the test data\n",
    "y_test_predict = rnd_clf.predict(X_test)\n",
    "print('Performance of Random Forest Classifier on test data')\n",
    "performance(Y_test,y_test_predict)"
   ]
  },
  {
   "cell_type": "markdown",
   "metadata": {
    "id": "hlMEuLrxUrV3"
   },
   "source": [
    "<h4>Final Model - Voting Classifier"
   ]
  },
  {
   "cell_type": "code",
   "execution_count": null,
   "metadata": {
    "colab": {
     "base_uri": "https://localhost:8080/"
    },
    "id": "LHA2RDXgUoQH",
    "outputId": "aac1ac8c-e045-4939-d313-066f524fa07b"
   },
   "outputs": [
    {
     "data": {
      "text/plain": [
       "VotingClassifier(estimators=[('sgd',\n",
       "                              SGDClassifier(alpha=0.0001, average=False,\n",
       "                                            class_weight=None,\n",
       "                                            early_stopping=False, epsilon=0.1,\n",
       "                                            eta0=0.0, fit_intercept=True,\n",
       "                                            l1_ratio=0.15,\n",
       "                                            learning_rate='optimal', loss='log',\n",
       "                                            max_iter=1000, n_iter_no_change=5,\n",
       "                                            n_jobs=None, penalty='l2',\n",
       "                                            power_t=0.5, random_state=42,\n",
       "                                            shuffle=True, tol=0.001,\n",
       "                                            validation_fraction=0.1, verbose=0,\n",
       "                                            wa...\n",
       "                                                     random_state=None,\n",
       "                                                     verbose=0,\n",
       "                                                     warm_start=False)),\n",
       "                             ('log',\n",
       "                              LogisticRegression(C=1.0, class_weight=None,\n",
       "                                                 dual=False, fit_intercept=True,\n",
       "                                                 intercept_scaling=1,\n",
       "                                                 l1_ratio=None, max_iter=100,\n",
       "                                                 multi_class='auto',\n",
       "                                                 n_jobs=None, penalty='l2',\n",
       "                                                 random_state=None,\n",
       "                                                 solver='lbfgs', tol=0.0001,\n",
       "                                                 verbose=0,\n",
       "                                                 warm_start=False))],\n",
       "                 flatten_transform=True, n_jobs=None, voting='hard',\n",
       "                 weights=None)"
      ]
     },
     "execution_count": 71,
     "metadata": {
      "tags": []
     },
     "output_type": "execute_result"
    }
   ],
   "source": [
    "from sklearn.ensemble import VotingClassifier\n",
    "voting_clf = VotingClassifier(estimators=[('sgd',sgd_clf),('svm',svc_clf),('knn',knn_clf),('dt',dt_clf),('rnd',rnd_clf),('log',log_reg)])\n",
    "voting_clf.fit(X_train,Y_train)"
   ]
  },
  {
   "cell_type": "code",
   "execution_count": null,
   "metadata": {
    "colab": {
     "base_uri": "https://localhost:8080/"
    },
    "id": "8ZGaShI_WHKm",
    "outputId": "67c1b024-86e3-4f84-bf9c-97e54b65f6d9"
   },
   "outputs": [
    {
     "name": "stdout",
     "output_type": "stream",
     "text": [
      "Performance of Voting Classifier on train data\n",
      "Precision = 0.8468733760609735\n",
      "Recall of = 0.4307109505770417\n",
      "F1 Score = 0.5710114459238496\n",
      "Confusion Matrix :-\n",
      " [[38593   884]\n",
      " [ 6462  4889]]\n"
     ]
    },
    {
     "data": {
      "image/png": "[encoded data removed]",
      "text/plain": [
       "<Figure size 432x288 with 2 Axes>"
      ]
     },
     "metadata": {
      "needs_background": "light",
      "tags": []
     },
     "output_type": "display_data"
    }
   ],
   "source": [
    "#testing the model on the train data\n",
    "y_train_predict = voting_clf.predict(X_train)\n",
    "print('Performance of Voting Classifier on train data')\n",
    "performance(Y_train,y_train_predict)"
   ]
  },
  {
   "cell_type": "code",
   "execution_count": null,
   "metadata": {
    "colab": {
     "base_uri": "https://localhost:8080/"
    },
    "id": "3kqwBMjDYq9X",
    "outputId": "c8ab75cf-87ad-49b8-cfe1-74b818d760ec"
   },
   "outputs": [
    {
     "name": "stdout",
     "output_type": "stream",
     "text": [
      "Performance of Voting Classifier on test data\n",
      "Precision = 0.7863013698630137\n",
      "Recall of = 0.3983344899375434\n",
      "F1 Score = 0.5287885766927684\n",
      "Confusion Matrix :-\n",
      " [[9513  312]\n",
      " [1734 1148]]\n"
     ]
    },
    {
     "data": {
      "image/png": "[encoded data removed]",
      "text/plain": [
       "<Figure size 432x288 with 2 Axes>"
      ]
     },
     "metadata": {
      "needs_background": "light",
      "tags": []
     },
     "output_type": "display_data"
    }
   ],
   "source": [
    "#testing the model on the test data\n",
    "y_test_predict = voting_clf.predict(X_test)\n",
    "print('Performance of Voting Classifier on test data')\n",
    "performance(Y_test,y_test_predict)"
   ]
  }
 ],
 "metadata": {
  "colab": {
   "collapsed_sections": [],
   "name": "SDS Project.ipynb",
   "provenance": []
  },
  "kernelspec": {
   "display_name": "Python 3",
   "language": "python",
   "name": "python3"
  },
  "language_info": {
   "codemirror_mode": {
    "name": "ipython",
    "version": 3
   },
   "file_extension": ".py",
   "mimetype": "text/x-python",
   "name": "python",
   "nbconvert_exporter": "python",
   "pygments_lexer": "ipython3",
   "version": "3.7.4"
  }
 },
 "nbformat": 4,
 "nbformat_minor": 1
}
